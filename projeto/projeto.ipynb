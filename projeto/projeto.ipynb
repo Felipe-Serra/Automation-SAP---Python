{
 "cells": [
  {
   "cell_type": "code",
   "execution_count": 16,
   "metadata": {},
   "outputs": [],
   "source": [
    "#confs iniciais\n",
    "import pyautogui as pg\n",
    "import pandas as pd\n",
    "import time\n",
    "import pyperclip\n",
    "pg.PAUSE = 0.3"
   ]
  },
  {
   "cell_type": "code",
   "execution_count": 31,
   "metadata": {},
   "outputs": [
    {
     "name": "stderr",
     "output_type": "stream",
     "text": [
      "<>:2: SyntaxWarning: invalid escape sequence '\\D'\n",
      "<>:2: SyntaxWarning: invalid escape sequence '\\D'\n",
      "C:\\Users\\felip\\AppData\\Local\\Temp\\ipykernel_18364\\1721988708.py:2: SyntaxWarning: invalid escape sequence '\\D'\n",
      "  tabela = pd.read_excel(\"C:\\\\Users\\\\felip\\Desktop\\Fe\\CURSOS\\Workspace-Hashtag\\projeto\\ProjetodeautomacaoSAP.xlsx\", sheet_name=\"Organizador de planilha - Sant\")\n"
     ]
    },
    {
     "data": {
      "text/html": [
       "<div>\n",
       "<style scoped>\n",
       "    .dataframe tbody tr th:only-of-type {\n",
       "        vertical-align: middle;\n",
       "    }\n",
       "\n",
       "    .dataframe tbody tr th {\n",
       "        vertical-align: top;\n",
       "    }\n",
       "\n",
       "    .dataframe thead th {\n",
       "        text-align: right;\n",
       "    }\n",
       "</style>\n",
       "<table border=\"1\" class=\"dataframe\">\n",
       "  <thead>\n",
       "    <tr style=\"text-align: right;\">\n",
       "      <th></th>\n",
       "      <th>Seu Número</th>\n",
       "      <th>Nosso Número</th>\n",
       "      <th>Vencimento</th>\n",
       "      <th>Data da Liquidação</th>\n",
       "      <th>Valor do Título (R$)</th>\n",
       "      <th>Valor Cobrado (R$)</th>\n",
       "      <th>Cod Sap</th>\n",
       "      <th>Centro de lucro</th>\n",
       "      <th>Conta razão</th>\n",
       "    </tr>\n",
       "  </thead>\n",
       "  <tbody>\n",
       "    <tr>\n",
       "      <th>0</th>\n",
       "      <td>123</td>\n",
       "      <td>321</td>\n",
       "      <td>31</td>\n",
       "      <td>2</td>\n",
       "      <td>3</td>\n",
       "      <td>5</td>\n",
       "      <td>6</td>\n",
       "      <td>NaN</td>\n",
       "      <td>NaN</td>\n",
       "    </tr>\n",
       "  </tbody>\n",
       "</table>\n",
       "</div>"
      ],
      "text/plain": [
       "   Seu Número  Nosso Número  Vencimento  Data da Liquidação  \\\n",
       "0         123           321          31                   2   \n",
       "\n",
       "   Valor do Título (R$)  Valor Cobrado (R$)  Cod Sap  Centro de lucro  \\\n",
       "0                     3                   5        6              NaN   \n",
       "\n",
       "   Conta razão  \n",
       "0          NaN  "
      ]
     },
     "metadata": {},
     "output_type": "display_data"
    }
   ],
   "source": [
    "#display tabela original (Excel)\n",
    "tabela = pd.read_excel(\"C:\\\\Users\\\\felip\\Desktop\\Fe\\CURSOS\\Workspace-Hashtag\\projeto\\ProjetodeautomacaoSAP.xlsx\", sheet_name=\"Organizador de planilha - Sant\")\n",
    "tabela = tabela.drop(columns=[\"Oscilação (R$)\", \"Pagador\", \"Responsável\"])\n",
    "\n",
    "display(tabela)"
   ]
  },
  {
   "cell_type": "code",
   "execution_count": 30,
   "metadata": {},
   "outputs": [
    {
     "name": "stdout",
     "output_type": "stream",
     "text": [
      " R$ 3,00 \n"
     ]
    },
    {
     "ename": "TypeError",
     "evalue": "type 'Series' is not subscriptable",
     "output_type": "error",
     "traceback": [
      "\u001b[1;31m---------------------------------------------------------------------------\u001b[0m",
      "\u001b[1;31mTypeError\u001b[0m                                 Traceback (most recent call last)",
      "Cell \u001b[1;32mIn[30], line 12\u001b[0m\n\u001b[0;32m      9\u001b[0m \u001b[38;5;28;01mfor\u001b[39;00m linha \u001b[38;5;129;01min\u001b[39;00m numeros:\n\u001b[0;32m     10\u001b[0m     \u001b[38;5;28mprint\u001b[39m(linha)\n\u001b[1;32m---> 12\u001b[0m     popo \u001b[38;5;241m=\u001b[39m \u001b[43mpd\u001b[49m\u001b[38;5;241;43m.\u001b[39;49m\u001b[43mSeries\u001b[49m\u001b[43m[\u001b[49m\u001b[38;5;124;43m\"\u001b[39;49m\u001b[38;5;124;43ma\u001b[39;49m\u001b[38;5;124;43m\"\u001b[39;49m\u001b[43m]\u001b[49m\n\u001b[0;32m     13\u001b[0m     new_tabela \u001b[38;5;241m=\u001b[39m pd\u001b[38;5;241m.\u001b[39mconcat([tabela, popo], axis\u001b[38;5;241m=\u001b[39m\u001b[38;5;241m1\u001b[39m)\n\u001b[0;32m     14\u001b[0m     display(new_tabela)\n",
      "\u001b[1;31mTypeError\u001b[0m: type 'Series' is not subscriptable"
     ]
    }
   ],
   "source": [
    "# Obtencao dos dados\n",
    "\n",
    "#pg.click(x=108, y=402, clicks=2) #cliente\n",
    "time.sleep(0.5)\n",
    "\n",
    "texto = pyperclip.paste()\n",
    "numeros = texto.split('\\r\\n')\n",
    "\n",
    "for linha in numeros:\n",
    "    print(linha)\n",
    "\n",
    "    popo = pd.Series[\"a\"]\n",
    "    new_tabela = pd.concat([tabela, popo], axis=1)\n",
    "    display(new_tabela)"
   ]
  }
 ],
 "metadata": {
  "kernelspec": {
   "display_name": "Python 3",
   "language": "python",
   "name": "python3"
  },
  "language_info": {
   "codemirror_mode": {
    "name": "ipython",
    "version": 3
   },
   "file_extension": ".py",
   "mimetype": "text/x-python",
   "name": "python",
   "nbconvert_exporter": "python",
   "pygments_lexer": "ipython3",
   "version": "3.12.3"
  }
 },
 "nbformat": 4,
 "nbformat_minor": 2
}
